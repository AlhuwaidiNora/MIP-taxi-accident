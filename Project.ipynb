{
 "cells": [
  {
   "cell_type": "markdown",
   "metadata": {},
   "source": [
    "![ine-divider](https://user-images.githubusercontent.com/7065401/92672068-398e8080-f2ee-11ea-82d6-ad53f7feb5c0.png)\n",
    "<hr>\n",
    "\n",
    "# Intro to probability\n",
    "\n",
    "## Final Project\n",
    "\n",
    "The goal of this **Final Project** is to review key concept of probability using python, which you have used throughout the course and to analyze real data and come to informed conclusions.\n",
    "\n",
    "In particular,this project is divided in two parts. The first one is focus on introducing you in the study case and in the second one will ask you to work with a real dataset.\n",
    "\n",
    "![orange-divider](https://user-images.githubusercontent.com/7065401/92672455-187a5f80-f2ef-11ea-890c-40be9474f7b7.png)"
   ]
  },
  {
   "cell_type": "markdown",
   "metadata": {},
   "source": [
    "## Part 1\n",
    "\n",
    "**Study Case**\n",
    "\n",
    "In a city with one hundred taxis, 1 is `blue` and 99 are `green`.\n",
    "\n",
    "A witness observes a hit-and-run by a taxi at night and recalls that the taxi was blue, so the police arrest the blue taxi driver who was on duty that night. \n",
    "\n",
    "The driver proclaims his innocence and hires you to defend him in court. You hire a scientist to test the witness' ability to distinguish blue and green taxis under conditions similar to the night of accident."
   ]
  },
  {
   "cell_type": "markdown",
   "metadata": {},
   "source": [
    "The data suggests that the witness sees blue cars as blue 99% of the time and green cars as blue 2% of the time."
   ]
  },
  {
   "cell_type": "markdown",
   "metadata": {},
   "source": [
    "---\n",
    "**A)** What type of probability will you calculate to defend him?\n",
    "\n",
    "> **Quick reminder**: You know that the witness recall the taxi was blue. You will try to make the case that this is likely to be a case of random mis-identification."
   ]
  },
  {
   "cell_type": "code",
   "execution_count": null,
   "metadata": {},
   "outputs": [],
   "source": []
  },
  {
   "cell_type": "markdown",
   "metadata": {},
   "source": [
    "---\n",
    "**B)** Using the following events:\n",
    "\n",
    "$W_b$ = \"witness sees a blue taxi\" \n",
    "\n",
    "$W_g$ = \"witness sees a green car\"\n",
    "\n",
    "$T_b$ = \"taxi is blue\" \n",
    "\n",
    "$T_g$ = \"taxi is green\"\n",
    "\n",
    "\n",
    "How could you use that evetns to calculate the probability you mentioned?"
   ]
  },
  {
   "cell_type": "code",
   "execution_count": null,
   "metadata": {},
   "outputs": [],
   "source": []
  },
  {
   "cell_type": "markdown",
   "metadata": {},
   "source": [
    "---\n",
    "**C)** Calculate $P(W_b|T_b)$ and $P(T_b)$"
   ]
  },
  {
   "cell_type": "code",
   "execution_count": null,
   "metadata": {},
   "outputs": [],
   "source": []
  },
  {
   "cell_type": "markdown",
   "metadata": {},
   "source": [
    "---\n",
    "**D)** Estimate $P(W_b)$ using your previous answer.\n",
    "\n",
    "> Remember that we compute $P(W_b)$ using the _Law of Total Probability_."
   ]
  },
  {
   "cell_type": "code",
   "execution_count": null,
   "metadata": {},
   "outputs": [],
   "source": []
  },
  {
   "cell_type": "markdown",
   "metadata": {},
   "source": [
    "---\n",
    "**E)** Now, what is the result of $P(T_b|W_b)$?"
   ]
  },
  {
   "cell_type": "code",
   "execution_count": null,
   "metadata": {},
   "outputs": [],
   "source": []
  },
  {
   "cell_type": "markdown",
   "metadata": {},
   "source": [
    "---\n",
    "**F)** Verdict time. Is the car more likely to be blue or green?"
   ]
  },
  {
   "cell_type": "code",
   "execution_count": null,
   "metadata": {},
   "outputs": [],
   "source": []
  },
  {
   "cell_type": "markdown",
   "metadata": {},
   "source": [
    "![orange-divider](https://user-images.githubusercontent.com/7065401/92672455-187a5f80-f2ef-11ea-890c-40be9474f7b7.png)\n",
    "\n",
    "## Part 2\n",
    "\n",
    "In this section you'll use taxi trips data.\n",
    "\n",
    "The trip records include data about pick-up and drop-off dates/times, pick-up and drop-off locations, trip distances, itemized fares, rate types, payment types, and driver-reported passenger counts."
   ]
  },
  {
   "cell_type": "code",
   "execution_count": null,
   "metadata": {},
   "outputs": [],
   "source": [
    "import pandas as pd"
   ]
  },
  {
   "cell_type": "code",
   "execution_count": null,
   "metadata": {},
   "outputs": [],
   "source": [
    "# Execute this code to extract (unzip) the ZIP file\n",
    "!tar -xvf data/taxi.zip taxi.csv\n",
    "!mv taxi.csv data/"
   ]
  },
  {
   "cell_type": "code",
   "execution_count": null,
   "metadata": {},
   "outputs": [],
   "source": [
    "taxi_df = pd.read_csv('data/taxi.csv')\n",
    "taxi_df.head()"
   ]
  },
  {
   "cell_type": "markdown",
   "metadata": {},
   "source": [
    "---\n",
    "**A)** Drop the following columns:\n",
    "\n",
    "```\n",
    "['pickup_census_tract','dropoff_census_tract','pickup_community_area','dropoff_community_area','tolls','pickup_latitude','pickup_longitude','dropoff_latitude','dropoff_longitude']\n",
    "```"
   ]
  },
  {
   "cell_type": "code",
   "execution_count": null,
   "metadata": {},
   "outputs": [],
   "source": [
    "data = None"
   ]
  },
  {
   "cell_type": "markdown",
   "metadata": {},
   "source": [
    "---\n",
    "**B)** Keep just the first 100 rows."
   ]
  },
  {
   "cell_type": "code",
   "execution_count": null,
   "metadata": {},
   "outputs": [],
   "source": []
  },
  {
   "cell_type": "markdown",
   "metadata": {},
   "source": [
    "---\n",
    "**C)** We don't have information about taxi colors, but we know green taxis don't accept **cash** if the fare is higher than 40.\n",
    "\n",
    "We know a passenger spent more than 40$ and paid by cash, so that trip belongs to the blue taxi, **can you get that trip record?**"
   ]
  },
  {
   "cell_type": "code",
   "execution_count": null,
   "metadata": {},
   "outputs": [],
   "source": []
  },
  {
   "cell_type": "markdown",
   "metadata": {},
   "source": [
    "---\n",
    "**D)** What is the probability to have taken the blue taxi if the trip lasted more than 500 seconds?"
   ]
  },
  {
   "cell_type": "code",
   "execution_count": null,
   "metadata": {},
   "outputs": [],
   "source": []
  },
  {
   "cell_type": "markdown",
   "metadata": {},
   "source": [
    "---\n",
    "**E)** What is the probability to have taken the green taxi if the trip lasted more than 500 seconds?"
   ]
  },
  {
   "cell_type": "code",
   "execution_count": null,
   "metadata": {},
   "outputs": [],
   "source": []
  },
  {
   "cell_type": "markdown",
   "metadata": {},
   "source": [
    "---\n",
    "**F)** What is the probability to have paid in cash given that you took the green taxi?"
   ]
  },
  {
   "cell_type": "code",
   "execution_count": null,
   "metadata": {},
   "outputs": [],
   "source": []
  },
  {
   "cell_type": "markdown",
   "metadata": {},
   "source": [
    "---\n",
    "**G)** For last task, you will need to pick a taxi from this dataset considering the following events:\n",
    "\n",
    "- A={The TAXI chosen have been paying by cash}\n",
    "- B={The TAXI chosen have the trip lasted more than 500 seconds}\n",
    "- C={The TAXI chosen have paid a total trip equal to 40$}\n",
    "\n",
    "Now answer:\n",
    "\n",
    "**G.1)** A and B are mutually exclusive events?\n",
    "\n",
    "**G.2)** A and C are mutually exclusive events?"
   ]
  },
  {
   "cell_type": "code",
   "execution_count": null,
   "metadata": {},
   "outputs": [],
   "source": []
  },
  {
   "cell_type": "markdown",
   "metadata": {},
   "source": [
    "![orange-divider](https://user-images.githubusercontent.com/7065401/92672455-187a5f80-f2ef-11ea-890c-40be9474f7b7.png)"
   ]
  }
 ],
 "metadata": {
  "kernelspec": {
   "display_name": "Python 3",
   "language": "python",
   "name": "python3"
  },
  "language_info": {
   "codemirror_mode": {
    "name": "ipython",
    "version": 3
   },
   "file_extension": ".py",
   "mimetype": "text/x-python",
   "name": "python",
   "nbconvert_exporter": "python",
   "pygments_lexer": "ipython3",
   "version": "3.8.4"
  }
 },
 "nbformat": 4,
 "nbformat_minor": 4
}
